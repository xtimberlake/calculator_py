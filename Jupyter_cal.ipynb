{
 "cells": [
  {
   "cell_type": "code",
   "execution_count": null,
   "metadata": {},
   "outputs": [],
   "source": [
    "#########-----混合运算测试函数----##########\n",
    "\n",
    "def normal_cal(string):\n",
    "    import re\n",
    "\n",
    "    pattern_num = re.compile('[0-9]+\\.?\\d*')   # 查找数字\n",
    "    pattern_sign = re.compile('[+]|[-]|[*]|[/]|[/^]')   # 查找运算符号\n",
    "\n",
    "    result = pattern_num.findall(string)\n",
    "    result_sign = pattern_sign.findall(string)\n",
    "    num_sign = len(result_sign) #计算符号总个数 用于决定循环次数\n",
    "    current_num =  result\n",
    "    current_sign = result_sign\n",
    "    print('新字符串中含有的数字:')\n",
    "    print(result)\n",
    "    for i in range(0,num_sign):\n",
    "        if '^' in current_sign: #最高运算级\n",
    "            sign_position = current_sign.index('^')\n",
    "            temp_result = float(current_num[sign_position])**float(current_num[sign_position+1])\n",
    "            current_num[sign_position] = temp_result\n",
    "            del current_num[sign_position+1]\n",
    "            current_sign.remove('^')\n",
    "            print(current_num)  \n",
    "        elif '*' in current_sign:\n",
    "            sign_position = current_sign.index('*')\n",
    "            temp_result = float(current_num[sign_position])*float(current_num[sign_position+1])\n",
    "            current_num[sign_position] = temp_result\n",
    "            del current_num[sign_position+1]\n",
    "            current_sign.remove('*')\n",
    "            print(current_num)\n",
    "        elif '/' in current_sign:\n",
    "            sign_position = current_sign.index('/')\n",
    "            temp_result = float(current_num[sign_position])/float(current_num[sign_position+1])\n",
    "            current_num[sign_position] = temp_result\n",
    "            del current_num[sign_position+1]\n",
    "            current_sign.remove('/')\n",
    "            print(current_num)\n",
    "        elif '+' in current_sign:\n",
    "            sign_position = current_sign.index('+')\n",
    "            temp_result = float(current_num[sign_position])+float(current_num[sign_position+1])\n",
    "            current_num[sign_position] = temp_result\n",
    "            del current_num[sign_position+1]\n",
    "            current_sign.remove('+')\n",
    "            print(current_num)\n",
    "        elif '-' in current_sign:\n",
    "            sign_position = current_sign.index('-')\n",
    "            temp_result = float(current_num[sign_position])-float(current_num[sign_position+1])\n",
    "            current_num[sign_position] = temp_result\n",
    "            del current_num[sign_position+1]\n",
    "            current_sign.remove('-')\n",
    "            print(current_num)\n",
    "    return float(current_num[0])"
   ]
  },
  {
   "cell_type": "code",
   "execution_count": null,
   "metadata": {
    "scrolled": true
   },
   "outputs": [],
   "source": [
    "#########-----化简括号测试函数----##########\n",
    "def simplify(string):\n",
    "    print('计算表达式：'+string)\n",
    "    number_focus = string.count(')')\n",
    "    print('括号的数量:', number_focus)\n",
    "    current_string=string\n",
    "    print('\\r')\n",
    "    for i in range(0,number_focus):\n",
    "        print('第几次循环：',i+1)\n",
    "        current_r_position=current_string.find(')')\n",
    "        p=current_r_position\n",
    "        last_string=current_string\n",
    "\n",
    "        while 1: #找出对应的左括号位置\n",
    "            p=p-1\n",
    "            if (current_string[p]=='('):\n",
    "                current_l_position=p\n",
    "                break\n",
    "        temp_string=current_string[current_l_position+1:current_r_position] #提取优先运算的式子\n",
    "        print('提取括号内的式子：',temp_string)\n",
    "        temp_result=normal_cal(temp_string) #计算括号内的结果\n",
    "        print('括号内的式子的结果：',temp_result)\n",
    "        current_list=list(current_string) #只有列表可以删除元素\n",
    "        current_list[current_l_position]=str(temp_result) #将计算结果代替左括号的元素\n",
    "        del current_list[current_l_position+1:current_r_position+1]\n",
    "        print('计算后的列表：',current_list)\n",
    "        sr=str(current_list)\n",
    "        temp_list=[str(i) for i in current_list] #使用列表推导式把列表中的单个元素全部转化为str类型\n",
    "        temp_list #查看转化后的列表\n",
    "        current_string=''.join(temp_list) #把列表中的元素放在空串中，元素间直接连接\n",
    "        print('新的字符串：',current_string) #查看生成的长串\n",
    "        print('\\r')\n",
    "    return current_string"
   ]
  },
  {
   "cell_type": "code",
   "execution_count": 8,
   "metadata": {},
   "outputs": [],
   "source": [
    "#########-----完整计算器函数----##########\n",
    "\n",
    "import re #引入正则表达式库\n",
    "import math #引入数学库\n",
    "\n",
    "def normal_cal(string):\n",
    "    pattern_num = re.compile('[0-9]+\\.?\\d*')   # 查找数字\n",
    "    pattern_sign = re.compile('[+]|[-]|[*]|[/]|[/^]')   # 查找运算符号\n",
    "    \n",
    "    result = pattern_num.findall(string)\n",
    "    result_sign = pattern_sign.findall(string)\n",
    "    num_number = len(result)\n",
    "    num_sign = len(result_sign) #计算符号总个数 用于决定循环次数\n",
    "    if num_number==0:\n",
    "        return float(string)\n",
    "    current_num =  result\n",
    "    current_sign = result_sign\n",
    "    #print('新字符串中含有的数字:')\n",
    "    #print(result)\n",
    "    for i in range(0,num_sign):\n",
    "        if '^' in current_sign: #最高运算级\n",
    "            sign_position = current_sign.index('^')\n",
    "            temp_result = float(current_num[sign_position])**float(current_num[sign_position+1])\n",
    "            current_num[sign_position] = temp_result\n",
    "            del current_num[sign_position+1]\n",
    "            current_sign.remove('^')\n",
    "            #print(current_num)  \n",
    "        elif '*' in current_sign:\n",
    "            sign_position = current_sign.index('*')\n",
    "            temp_result = float(current_num[sign_position])*float(current_num[sign_position+1])\n",
    "            current_num[sign_position] = temp_result\n",
    "            del current_num[sign_position+1]\n",
    "            current_sign.remove('*')\n",
    "            #print(current_num)\n",
    "        elif '/' in current_sign:\n",
    "            sign_position = current_sign.index('/')\n",
    "            temp_result = float(current_num[sign_position])/float(current_num[sign_position+1])\n",
    "            current_num[sign_position] = temp_result\n",
    "            del current_num[sign_position+1]\n",
    "            current_sign.remove('/')\n",
    "            #print(current_num)\n",
    "        elif '+' in current_sign:\n",
    "            sign_position = current_sign.index('+')\n",
    "            temp_result = float(current_num[sign_position])+float(current_num[sign_position+1])\n",
    "            current_num[sign_position] = temp_result\n",
    "            del current_num[sign_position+1]\n",
    "            current_sign.remove('+')\n",
    "            #print(current_num)\n",
    "        elif '-' in current_sign:\n",
    "            sign_position = current_sign.index('-')\n",
    "            temp_result = float(current_num[sign_position])-float(current_num[sign_position+1])\n",
    "            current_num[sign_position] = temp_result\n",
    "            del current_num[sign_position+1]\n",
    "            current_sign.remove('-')\n",
    "            #print(current_num)\n",
    "    return float(current_num[0])\n",
    "\n",
    "################################################函数分割\n",
    "def simplify(string):\n",
    "    #print('计算表达式：'+string)\n",
    "    \n",
    "    pattern_num = re.compile('[0-9]+\\.?\\d*')   # 查找数字\n",
    "    result = pattern_num.findall(string)\n",
    "    num_number = len(result) #计算符号总个数 用于决定循环次数\n",
    "    if num_number==0:\n",
    "        return string\n",
    "    number_focus = string.count(')')\n",
    "    #print('括号的数量:', number_focus)\n",
    "    current_string=string\n",
    "    #print('\\r')\n",
    "    for i in range(0,number_focus):\n",
    "        #print('第几次循环：',i+1)\n",
    "        current_r_position=current_string.find(')')\n",
    "        p=current_r_position\n",
    "        last_string=current_string\n",
    "\n",
    "        while 1: #找出对应的左括号位置\n",
    "            p=p-1\n",
    "            if (current_string[p]=='('):\n",
    "                current_l_position=p\n",
    "                break\n",
    "        temp_string=current_string[current_l_position+1:current_r_position] #提取优先运算的式子\n",
    "        #print('提取括号内的式子：',temp_string)\n",
    "        temp_result=normal_cal(temp_string) #计算括号内的结果\n",
    "        #print('括号内的式子的结果：',temp_result)\n",
    "        current_list=list(current_string) #只有列表可以删除元素\n",
    "        current_list[current_l_position]=str(temp_result) #将计算结果代替左括号的元素\n",
    "        del current_list[current_l_position+1:current_r_position+1]\n",
    "        #print('计算后的列表：',current_list)\n",
    "        sr=str(current_list)\n",
    "        temp_list=[str(i) for i in current_list] #使用列表推导式把列表中的单个元素全部转化为str类型\n",
    "        temp_list #查看转化后的列表\n",
    "        current_string=''.join(temp_list) #把列表中的元素放在空串中，元素间直接连接\n",
    "        #print('新的字符串：',current_string) #查看生成的长串\n",
    "        #print('\\r')\n",
    "    return current_string\n",
    "\n",
    "################################################函数分割\n",
    "def cal(string_cal):\n",
    "    temp_cal=simplify(string_cal)\n",
    "    re_cal=normal_cal(temp_cal)\n",
    "    return re_cal\n",
    "\n",
    "################################################函数分割\n",
    "\n",
    "def calculate():\n",
    "    while 1:\n",
    "        data = input(\"需要计算的公式:\")\n",
    "        if data == \"exit\":\n",
    "            print(\"已退出计算器，感谢使用\")\n",
    "            break\n",
    "        else:\n",
    "            if data == \"help\":\n",
    "                print(\"欢迎进入帮助页面：\")\n",
    "                print(\"本计算器支持的运算：\")\n",
    "                print('加：''-')\n",
    "                print('减：''+')\n",
    "                print('乘：''*')\n",
    "                print('除：''/')\n",
    "                print('指数：''^')\n",
    "                print('正弦：''sin(x)')\n",
    "                print('余弦：''cos(x))')\n",
    "                print('正切：''tan(x)')\n",
    "                print('对数：''log(x)')\n",
    "                print('开方：''sqrt(x)')\n",
    "                print('指数：''pow(x,y)')\n",
    "                print('输入help打开帮助页面，输入exit退出计算器。')\n",
    "            elif data.find('sin')!=-1:\n",
    "                temp_1=data[4:len(data)-1]\n",
    "                temp_2=normal_cal(temp_1)\n",
    "                re=math.sin(temp_2)\n",
    "                print('正弦计算结果：',re)\n",
    "            elif data.find('cos')!=-1:\n",
    "                temp_1=data[4:len(data)-1]\n",
    "                temp_2=normal_cal(temp_1)\n",
    "                re=math.cos(temp_2)\n",
    "                print('余弦计算结果：',re)\n",
    "            elif data.find('tan')!=-1:\n",
    "                temp_1=data[4:len(data)-1]\n",
    "                temp_2=normal_cal(temp_1)\n",
    "                re=math.tan(temp_2)\n",
    "                print('正切计算结果：',re)    \n",
    "            elif data.find('log')!=-1:\n",
    "                temp_1=data[4:len(data)-1]\n",
    "                temp_2=normal_cal(temp_1)\n",
    "                re=math.log(temp_2)\n",
    "                print('对数计算结果：',re) \n",
    "            elif data.find('sqrt')!=-1:\n",
    "                temp_1=data[4:len(data)-1]\n",
    "                temp_2=normal_cal(temp_1)\n",
    "                re=math.sqrt(temp_2)\n",
    "                print('开方计算结果：',re) \n",
    "            elif data.find('pow')!=-1:\n",
    "                import re\n",
    "                pattern_num = re.compile('[0-9]+\\.?\\d*')   # 查找数字\n",
    "                result = pattern_num.findall(data)\n",
    "                temp_1=float(result[0])\n",
    "                temp_2=float(result[1])\n",
    "                re=math.pow(temp_1,temp_2)\n",
    "                print('开方计算结果：',re)\n",
    "            else:\n",
    "                print('运算结果：',cal(data))"
   ]
  },
  {
   "cell_type": "code",
   "execution_count": 10,
   "metadata": {
    "scrolled": true
   },
   "outputs": [
    {
     "name": "stdout",
     "output_type": "stream",
     "text": [
      "需要计算的公式:help\n",
      "欢迎进入帮助页面：\n",
      "本计算器支持的运算：\n",
      "加：-\n",
      "减：+\n",
      "乘：*\n",
      "除：/\n",
      "指数：^\n",
      "正弦：sin(x)\n",
      "余弦：cos(x))\n",
      "正切：tan(x)\n",
      "对数：log(x)\n",
      "开方：sqrt(x)\n",
      "指数：pow(x,y)\n",
      "输入help打开帮助页面，输入exit退出计算器。\n",
      "需要计算的公式:exit\n",
      "已退出计算器，感谢使用\n"
     ]
    }
   ],
   "source": [
    "print(\"输入help打开帮助页面，输入exit退出计算器。\")\n",
    "calculate()"
   ]
  },
  {
   "cell_type": "code",
   "execution_count": 12,
   "metadata": {},
   "outputs": [
    {
     "data": {
      "text/latex": [
       "$\\displaystyle \\sqrt{\\pi} e^{- \\pi^{2} k^{2}}$"
      ],
      "text/plain": [
       "sqrt(pi)*exp(-pi**2*k**2)"
      ]
     },
     "execution_count": 12,
     "metadata": {},
     "output_type": "execute_result"
    }
   ],
   "source": [
    "######傅里叶变换\n",
    ">>> from sympy import fourier_transform, exp\n",
    ">>> from sympy.abc import x, k\n",
    ">>> fourier_transform(exp(-x**2), x, k)"
   ]
  },
  {
   "cell_type": "code",
   "execution_count": 13,
   "metadata": {},
   "outputs": [
    {
     "data": {
      "text/latex": [
       "$\\displaystyle e^{- x^{2}}$"
      ],
      "text/plain": [
       "exp(-x**2)"
      ]
     },
     "execution_count": 13,
     "metadata": {},
     "output_type": "execute_result"
    }
   ],
   "source": [
    "######傅里叶逆变换\n",
    "from __future__ import division\n",
    "from sympy import *\n",
    "x, y, z, t = symbols('x y z t')\n",
    "k, m, n = symbols('k m n', integer=True)\n",
    "f, g, h = symbols('f g h', cls=Function)\n",
    "\n",
    "inverse_fourier_transform(sqrt(pi)*exp(-(pi*k)**2), k, x)"
   ]
  },
  {
   "cell_type": "code",
   "execution_count": 14,
   "metadata": {},
   "outputs": [
    {
     "name": "stdout",
     "output_type": "stream",
     "text": [
      "2/s**3\n"
     ]
    }
   ],
   "source": [
    "######拉普拉斯变换\n",
    "from sympy.integrals import laplace_transform\n",
    "from sympy.abc import t, s, a\n",
    "res = laplace_transform(t**2, t, s)\n",
    "list_res = list(res)\n",
    "print(res[0])"
   ]
  },
  {
   "cell_type": "code",
   "execution_count": 15,
   "metadata": {},
   "outputs": [
    {
     "data": {
      "text/latex": [
       "$\\displaystyle \\theta\\left(- a + t\\right)$"
      ],
      "text/plain": [
       "Heaviside(-a + t)"
      ]
     },
     "execution_count": 15,
     "metadata": {},
     "output_type": "execute_result"
    }
   ],
   "source": [
    "######拉普拉斯逆变换\n",
    ">>> from sympy.integrals.transforms import inverse_laplace_transform\n",
    ">>> from sympy import exp, Symbol\n",
    ">>> from sympy.abc import s, t\n",
    ">>> a = Symbol('a', positive=True)\n",
    ">>> inverse_laplace_transform(exp(-a*s)/s, s, t)"
   ]
  }
 ],
 "metadata": {
  "kernelspec": {
   "display_name": "Python 3",
   "language": "python",
   "name": "python3"
  },
  "language_info": {
   "codemirror_mode": {
    "name": "ipython",
    "version": 3
   },
   "file_extension": ".py",
   "mimetype": "text/x-python",
   "name": "python",
   "nbconvert_exporter": "python",
   "pygments_lexer": "ipython3",
   "version": "3.7.4"
  }
 },
 "nbformat": 4,
 "nbformat_minor": 2
}
